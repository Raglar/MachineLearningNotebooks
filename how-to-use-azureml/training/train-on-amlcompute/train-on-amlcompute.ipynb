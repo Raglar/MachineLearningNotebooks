{
 "cells": [
  {
   "cell_type": "markdown",
   "metadata": {},
   "source": [
    "Copyright (c) Microsoft Corporation. All rights reserved.\n",
    "\n",
    "Licensed under the MIT License."
   ]
  },
  {
   "cell_type": "markdown",
   "metadata": {},
   "source": [
    "![Impressions](https://PixelServer20190423114238.azurewebsites.net/api/impressions/MachineLearningNotebooks/how-to-use-azureml/training/train-on-amlcompute/train-on-amlcompute.png)"
   ]
  },
  {
   "cell_type": "markdown",
   "metadata": {},
   "source": [
    "#  Train using Azure Machine Learning Compute\n",
    "\n",
    "* Initialize a Workspace\n",
    "* Create an Experiment\n",
    "* Introduction to AmlCompute\n",
    "* Submit an AmlCompute run in a few different ways\n",
    "    - Provision as a run based compute target \n",
    "    - Provision as a persistent compute target (Basic)\n",
    "    - Provision as a persistent compute target (Advanced)\n",
    "* Additional operations to perform on AmlCompute\n",
    "* Find the best model in the run"
   ]
  },
  {
   "cell_type": "markdown",
   "metadata": {},
   "source": [
    "## Prerequisites\n",
    "If you are using an Azure Machine Learning Notebook VM, you are all set.  Otherwise, go through the [configuration](../../../configuration.ipynb) Notebook first if you haven't already to establish your connection to the AzureML Workspace."
   ]
  },
  {
   "cell_type": "code",
   "execution_count": 1,
   "metadata": {},
   "outputs": [
    {
     "name": "stdout",
     "output_type": "stream",
     "text": [
      "SDK version: 1.0.60\n"
     ]
    }
   ],
   "source": [
    "# Check core SDK version number\n",
    "import azureml.core\n",
    "\n",
    "print(\"SDK version:\", azureml.core.VERSION)"
   ]
  },
  {
   "cell_type": "markdown",
   "metadata": {},
   "source": [
    "## Initialize a Workspace\n",
    "\n",
    "Initialize a workspace object from persisted configuration"
   ]
  },
  {
   "cell_type": "code",
   "execution_count": 3,
   "metadata": {
    "tags": [
     "create workspace"
    ]
   },
   "outputs": [
    {
     "name": "stdout",
     "output_type": "stream",
     "text": [
      "avadevitsmlsvc\n",
      "RG-ITSMLTeam-Dev\n",
      "westus2\n",
      "ff2e23ae-7d7c-4cbd-99b8-116bb94dca6e\n"
     ]
    }
   ],
   "source": [
    "from azureml.core import Workspace\n",
    "\n",
    "ws = Workspace.from_config()\n",
    "print(ws.name, ws.resource_group, ws.location, ws.subscription_id, sep = '\\n')"
   ]
  },
  {
   "cell_type": "markdown",
   "metadata": {},
   "source": [
    "## Create An Experiment\n",
    "\n",
    "**Experiment** is a logical container in an Azure ML Workspace. It hosts run records which can include run metrics and output artifacts from your experiments."
   ]
  },
  {
   "cell_type": "code",
   "execution_count": 4,
   "metadata": {},
   "outputs": [],
   "source": [
    "from azureml.core import Experiment\n",
    "experiment_name = 'train-on-amlcompute'\n",
    "experiment = Experiment(workspace = ws, name = experiment_name)"
   ]
  },
  {
   "cell_type": "markdown",
   "metadata": {},
   "source": [
    "## Introduction to AmlCompute\n",
    "\n",
    "Azure Machine Learning Compute is managed compute infrastructure that allows the user to easily create single to multi-node compute of the appropriate VM Family. It is created **within your workspace region** and is a resource that can be used by other users in your workspace. It autoscales by default to the max_nodes, when a job is submitted, and executes in a containerized environment packaging the dependencies as specified by the user. \n",
    "\n",
    "Since it is managed compute, job scheduling and cluster management are handled internally by Azure Machine Learning service. \n",
    "\n",
    "For more information on Azure Machine Learning Compute, please read [this article](https://docs.microsoft.com/azure/machine-learning/service/how-to-set-up-training-targets#amlcompute)\n",
    "\n",
    "If you are an existing BatchAI customer who is migrating to Azure Machine Learning, please read [this article](https://aka.ms/batchai-retirement)\n",
    "\n",
    "**Note**: As with other Azure services, there are limits on certain resources (for eg. AmlCompute quota) associated with the Azure Machine Learning service. Please read [this article](https://docs.microsoft.com/azure/machine-learning/service/how-to-manage-quotas) on the default limits and how to request more quota.\n",
    "\n",
    "\n",
    "The training script `train.py` is already created for you. Let's have a look."
   ]
  },
  {
   "cell_type": "markdown",
   "metadata": {},
   "source": [
    "## Submit an AmlCompute run in a few different ways\n",
    "\n",
    "First lets check which VM families are available in your region. Azure is a regional service and some specialized SKUs (especially GPUs) are only available in certain regions. Since AmlCompute is created in the region of your workspace, we will use the supported_vms () function to see if the VM family we want to use ('STANDARD_D2_V2') is supported.\n",
    "\n",
    "You can also pass a different region to check availability and then re-create your workspace in that region through the [configuration notebook](../../../configuration.ipynb)"
   ]
  },
  {
   "cell_type": "code",
   "execution_count": 5,
   "metadata": {},
   "outputs": [
    {
     "data": {
      "text/plain": [
       "[{'name': 'Standard_F2s_v2', 'vCPUs': 2, 'memoryGB': 4.0},\n",
       " {'name': 'Standard_F4s_v2', 'vCPUs': 4, 'memoryGB': 8.0},\n",
       " {'name': 'Standard_F8s_v2', 'vCPUs': 8, 'memoryGB': 16.0},\n",
       " {'name': 'Standard_F16s_v2', 'vCPUs': 16, 'memoryGB': 32.0},\n",
       " {'name': 'Standard_F32s_v2', 'vCPUs': 32, 'memoryGB': 64.0},\n",
       " {'name': 'Standard_F64s_v2', 'vCPUs': 64, 'memoryGB': 128.0},\n",
       " {'name': 'Standard_F72s_v2', 'vCPUs': 72, 'memoryGB': 144.0},\n",
       " {'name': 'Standard_D1_v2', 'vCPUs': 1, 'memoryGB': 3.5},\n",
       " {'name': 'Standard_D2_v2', 'vCPUs': 2, 'memoryGB': 7.0},\n",
       " {'name': 'Standard_D3_v2', 'vCPUs': 4, 'memoryGB': 14.0},\n",
       " {'name': 'Standard_D4_v2', 'vCPUs': 8, 'memoryGB': 28.0},\n",
       " {'name': 'Standard_D11_v2', 'vCPUs': 2, 'memoryGB': 14.0},\n",
       " {'name': 'Standard_D12_v2', 'vCPUs': 4, 'memoryGB': 28.0},\n",
       " {'name': 'Standard_D13_v2', 'vCPUs': 8, 'memoryGB': 56.0},\n",
       " {'name': 'Standard_D14_v2', 'vCPUs': 16, 'memoryGB': 112.0},\n",
       " {'name': 'Standard_DS1_v2', 'vCPUs': 1, 'memoryGB': 3.5},\n",
       " {'name': 'Standard_DS2_v2', 'vCPUs': 2, 'memoryGB': 7.0},\n",
       " {'name': 'Standard_DS3_v2', 'vCPUs': 4, 'memoryGB': 14.0},\n",
       " {'name': 'Standard_DS4_v2', 'vCPUs': 8, 'memoryGB': 28.0},\n",
       " {'name': 'Standard_DS5_v2', 'vCPUs': 16, 'memoryGB': 56.0},\n",
       " {'name': 'Standard_DS11_v2', 'vCPUs': 2, 'memoryGB': 14.0},\n",
       " {'name': 'Standard_DS12_v2', 'vCPUs': 4, 'memoryGB': 28.0},\n",
       " {'name': 'Standard_DS13_v2', 'vCPUs': 8, 'memoryGB': 56.0},\n",
       " {'name': 'Standard_DS14_v2', 'vCPUs': 16, 'memoryGB': 112.0},\n",
       " {'name': 'Standard_DS15_v2', 'vCPUs': 20, 'memoryGB': 140.0},\n",
       " {'name': 'Standard_NC6s_v2', 'vCPUs': 6, 'memoryGB': 112.0},\n",
       " {'name': 'Standard_NC12s_v2', 'vCPUs': 12, 'memoryGB': 224.0},\n",
       " {'name': 'Standard_NC24rs_v2', 'vCPUs': 24, 'memoryGB': 448.0},\n",
       " {'name': 'Standard_NC24s_v2', 'vCPUs': 24, 'memoryGB': 448.0},\n",
       " {'name': 'Standard_NC6s_v3', 'vCPUs': 6, 'memoryGB': 112.0},\n",
       " {'name': 'Standard_NC12s_v3', 'vCPUs': 12, 'memoryGB': 224.0},\n",
       " {'name': 'Standard_NC24rs_v3', 'vCPUs': 24, 'memoryGB': 448.0},\n",
       " {'name': 'Standard_NC24s_v3', 'vCPUs': 24, 'memoryGB': 448.0},\n",
       " {'name': 'Standard_NC6', 'vCPUs': 6, 'memoryGB': 56.0},\n",
       " {'name': 'Standard_NC12', 'vCPUs': 12, 'memoryGB': 112.0},\n",
       " {'name': 'Standard_NC24', 'vCPUs': 24, 'memoryGB': 224.0},\n",
       " {'name': 'Standard_NC24r', 'vCPUs': 24, 'memoryGB': 224.0},\n",
       " {'name': 'Standard_NV6', 'vCPUs': 6, 'memoryGB': 56.0},\n",
       " {'name': 'Standard_NV12', 'vCPUs': 12, 'memoryGB': 112.0},\n",
       " {'name': 'Standard_NV24', 'vCPUs': 24, 'memoryGB': 224.0}]"
      ]
     },
     "execution_count": 5,
     "metadata": {},
     "output_type": "execute_result"
    }
   ],
   "source": [
    "from azureml.core.compute import ComputeTarget, AmlCompute\n",
    "\n",
    "AmlCompute.supported_vmsizes(workspace = ws)\n",
    "#AmlCompute.supported_vmsizes(workspace = ws, location='southcentralus')"
   ]
  },
  {
   "cell_type": "markdown",
   "metadata": {},
   "source": [
    "### Create project directory\n",
    "\n",
    "Create a directory that will contain all the necessary code from your local machine that you will need access to on the remote resource. This includes the training script, and any additional files your training script depends on"
   ]
  },
  {
   "cell_type": "code",
   "execution_count": 6,
   "metadata": {},
   "outputs": [
    {
     "data": {
      "text/plain": [
       "'./train-on-amlcompute\\\\train.py'"
      ]
     },
     "execution_count": 6,
     "metadata": {},
     "output_type": "execute_result"
    }
   ],
   "source": [
    "import os\n",
    "import shutil\n",
    "\n",
    "project_folder = './train-on-amlcompute'\n",
    "os.makedirs(project_folder, exist_ok=True)\n",
    "shutil.copy('train.py', project_folder)"
   ]
  },
  {
   "cell_type": "markdown",
   "metadata": {},
   "source": [
    "### Create environment\n",
    "\n",
    "Create Docker based environment with scikit-learn installed."
   ]
  },
  {
   "cell_type": "code",
   "execution_count": 9,
   "metadata": {},
   "outputs": [],
   "source": [
    "from azureml.core import Environment\n",
    "from azureml.core.conda_dependencies import CondaDependencies\n",
    "\n",
    "myenv = Environment(\"myenv\")\n",
    "\n",
    "myenv.docker.enabled = True\n",
    "myenv.python.conda_dependencies = CondaDependencies.create(conda_packages=['scikit-learn'])"
   ]
  },
  {
   "cell_type": "markdown",
   "metadata": {},
   "source": [
    "### Provision as a persistent compute target (Basic)\n",
    "\n",
    "You can provision a persistent AmlCompute resource by simply defining two parameters thanks to smart defaults. By default it autoscales from 0 nodes and provisions dedicated VMs to run your job in a container. This is useful when you want to continously re-use the same target, debug it between jobs or simply share the resource with other users of your workspace.\n",
    "\n",
    "* `vm_size`: VM family of the nodes provisioned by AmlCompute. Simply choose from the supported_vmsizes() above\n",
    "* `max_nodes`: Maximum nodes to autoscale to while running a job on AmlCompute"
   ]
  },
  {
   "cell_type": "code",
   "execution_count": 10,
   "metadata": {},
   "outputs": [
    {
     "name": "stdout",
     "output_type": "stream",
     "text": [
      "Found existing cluster, use it.\n",
      "Succeeded\n",
      "AmlCompute wait for completion finished\n",
      "Minimum number of nodes requested have been provisioned\n"
     ]
    }
   ],
   "source": [
    "from azureml.core.compute import ComputeTarget, AmlCompute\n",
    "from azureml.core.compute_target import ComputeTargetException\n",
    "\n",
    "# Choose a name for your CPU cluster\n",
    "cpu_cluster_name = \"cpu-cluster\"\n",
    "\n",
    "# Verify that cluster does not exist already\n",
    "try:\n",
    "    cpu_cluster = ComputeTarget(workspace=ws, name=cpu_cluster_name)\n",
    "    print('Found existing cluster, use it.')\n",
    "except ComputeTargetException:\n",
    "    compute_config = AmlCompute.provisioning_configuration(vm_size='STANDARD_D2_V2',\n",
    "                                                           max_nodes=4)\n",
    "    cpu_cluster = ComputeTarget.create(ws, cpu_cluster_name, compute_config)\n",
    "\n",
    "cpu_cluster.wait_for_completion(show_output=True)"
   ]
  },
  {
   "cell_type": "markdown",
   "metadata": {},
   "source": [
    "### Configure & Run"
   ]
  },
  {
   "cell_type": "code",
   "execution_count": 11,
   "metadata": {},
   "outputs": [],
   "source": [
    "from azureml.core import ScriptRunConfig\n",
    "from azureml.core.runconfig import DEFAULT_CPU_IMAGE\n",
    "\n",
    "src = ScriptRunConfig(source_directory=project_folder, script='train.py')\n",
    "\n",
    "# Set compute target to the one created in previous step\n",
    "src.run_config.target = cpu_cluster.name\n",
    "\n",
    "# Set environment\n",
    "src.run_config.environment = myenv"
   ]
  },
  {
   "cell_type": "code",
   "execution_count": null,
   "metadata": {},
   "outputs": [],
   "source": [
    "run = experiment.submit(config=src)\n",
    "run"
   ]
  },
  {
   "cell_type": "code",
   "execution_count": 20,
   "metadata": {},
   "outputs": [
    {
     "name": "stderr",
     "output_type": "stream",
     "text": [
      "WARNING - 'gpu_support' is no longer necessary; AzureML now automatically detects and uses nvidia docker extension when it is available. It will be removed in a future release.\n",
      "WARNING - 'gpu_support' is no longer necessary; AzureML now automatically detects and uses nvidia docker extension when it is available. It will be removed in a future release.\n"
     ]
    }
   ],
   "source": [
    "from azureml.train.estimator import Estimator\n",
    "test_estimator = Estimator(\n",
    "    source_directory=project_folder,\n",
    "    entry_script=\"spark_test.py\",\n",
    "    script_params={},\n",
    "    compute_target=cpu_cluster,\n",
    "    conda_packages=['pyspark', 'pandas', 'numpy'],\n",
    "    pip_packages=['pip', 'findspark'],\n",
    "#     custom_docker_image='microsoft/mmlspark:0.16'\n",
    "    custom_docker_image='microsoft/mmlspark:latest'\n",
    ")"
   ]
  },
  {
   "cell_type": "code",
   "execution_count": 21,
   "metadata": {},
   "outputs": [
    {
     "name": "stderr",
     "output_type": "stream",
     "text": [
      "WARNING - 'gpu_support' is no longer necessary; AzureML now automatically detects and uses nvidia docker extension when it is available. It will be removed in a future release.\n"
     ]
    },
    {
     "data": {
      "text/html": [
       "<table style=\"width:100%\"><tr><th>Experiment</th><th>Id</th><th>Type</th><th>Status</th><th>Details Page</th><th>Docs Page</th></tr><tr><td>train-on-amlcompute</td><td>train-on-amlcompute_1568091533_7bb452af</td><td>azureml.scriptrun</td><td>Starting</td><td><a href=\"https://mlworkspace.azure.ai/portal/subscriptions/ff2e23ae-7d7c-4cbd-99b8-116bb94dca6e/resourceGroups/RG-ITSMLTeam-Dev/providers/Microsoft.MachineLearningServices/workspaces/avadevitsmlsvc/experiments/train-on-amlcompute/runs/train-on-amlcompute_1568091533_7bb452af\" target=\"_blank\" rel=\"noopener\">Link to Azure Portal</a></td><td><a href=\"https://docs.microsoft.com/en-us/python/api/azureml-core/azureml.core.script_run.ScriptRun?view=azure-ml-py\" target=\"_blank\" rel=\"noopener\">Link to Documentation</a></td></tr></table>"
      ],
      "text/plain": [
       "Run(Experiment: train-on-amlcompute,\n",
       "Id: train-on-amlcompute_1568091533_7bb452af,\n",
       "Type: azureml.scriptrun,\n",
       "Status: Starting)"
      ]
     },
     "execution_count": 21,
     "metadata": {},
     "output_type": "execute_result"
    }
   ],
   "source": [
    "run = experiment.submit(config=test_estimator)\n",
    "run"
   ]
  },
  {
   "cell_type": "code",
   "execution_count": 22,
   "metadata": {},
   "outputs": [
    {
     "data": {
      "application/vnd.jupyter.widget-view+json": {
       "model_id": "71c45af9690745568d1473c0db95a471",
       "version_major": 2,
       "version_minor": 0
      },
      "text/plain": [
       "_UserRunWidget(widget_settings={'childWidgetDisplay': 'popup', 'send_telemetry': False, 'log_level': 'INFO', '…"
      ]
     },
     "metadata": {},
     "output_type": "display_data"
    }
   ],
   "source": [
    "from azureml.widgets import RunDetails  # noqa: F401\n",
    "RunDetails(run).show()"
   ]
  },
  {
   "cell_type": "markdown",
   "metadata": {},
   "source": [
    "Note: if you need to cancel a run, you can follow [these instructions](https://aka.ms/aml-docs-cancel-run)."
   ]
  },
  {
   "cell_type": "code",
   "execution_count": null,
   "metadata": {},
   "outputs": [],
   "source": [
    "%%time\n",
    "# Shows output of the run on stdout.\n",
    "run.wait_for_completion(show_output=True)"
   ]
  },
  {
   "cell_type": "code",
   "execution_count": null,
   "metadata": {},
   "outputs": [],
   "source": [
    "run.get_metrics()"
   ]
  },
  {
   "cell_type": "markdown",
   "metadata": {},
   "source": [
    "### Provision as a persistent compute target (Advanced)\n",
    "\n",
    "You can also specify additional properties or change defaults while provisioning AmlCompute using a more advanced configuration. This is useful when you want a dedicated cluster of 4 nodes (for example you can set the min_nodes and max_nodes to 4), or want the compute to be within an existing VNet in your subscription.\n",
    "\n",
    "In addition to `vm_size` and `max_nodes`, you can specify:\n",
    "* `min_nodes`: Minimum nodes (default 0 nodes) to downscale to while running a job on AmlCompute\n",
    "* `vm_priority`: Choose between 'dedicated' (default) and 'lowpriority' VMs when provisioning AmlCompute. Low Priority VMs use Azure's excess capacity and are thus cheaper but risk your run being pre-empted\n",
    "* `idle_seconds_before_scaledown`: Idle time (default 120 seconds) to wait after run completion before auto-scaling to min_nodes\n",
    "* `vnet_resourcegroup_name`: Resource group of the **existing** VNet within which AmlCompute should be provisioned\n",
    "* `vnet_name`: Name of VNet\n",
    "* `subnet_name`: Name of SubNet within the VNet"
   ]
  },
  {
   "cell_type": "code",
   "execution_count": null,
   "metadata": {},
   "outputs": [],
   "source": [
    "from azureml.core.compute import ComputeTarget, AmlCompute\n",
    "from azureml.core.compute_target import ComputeTargetException\n",
    "\n",
    "# Choose a name for your CPU cluster\n",
    "cpu_cluster_name = \"cpu-cluster\"\n",
    "\n",
    "# Verify that cluster does not exist already\n",
    "try:\n",
    "    cpu_cluster = ComputeTarget(workspace=ws, name=cpu_cluster_name)\n",
    "    print('Found existing cluster, use it.')\n",
    "except ComputeTargetException:\n",
    "    compute_config = AmlCompute.provisioning_configuration(vm_size='STANDARD_D2_V2',\n",
    "                                                           vm_priority='lowpriority',\n",
    "                                                           min_nodes=2,\n",
    "                                                           max_nodes=4,\n",
    "                                                           idle_seconds_before_scaledown='300',\n",
    "                                                           vnet_resourcegroup_name='<my-resource-group>',\n",
    "                                                           vnet_name='<my-vnet-name>',\n",
    "                                                           subnet_name='<my-subnet-name>')\n",
    "    cpu_cluster = ComputeTarget.create(ws, cpu_cluster_name, compute_config)\n",
    "\n",
    "cpu_cluster.wait_for_completion(show_output=True)"
   ]
  },
  {
   "cell_type": "markdown",
   "metadata": {},
   "source": [
    "### Configure & Run"
   ]
  },
  {
   "cell_type": "code",
   "execution_count": null,
   "metadata": {},
   "outputs": [],
   "source": [
    "# Set compute target to the one created in previous step\n",
    "src.run_config.target = cpu_cluster.name\n",
    " \n",
    "run = experiment.submit(config=src)\n",
    "run"
   ]
  },
  {
   "cell_type": "code",
   "execution_count": null,
   "metadata": {},
   "outputs": [],
   "source": [
    "%%time\n",
    "# Shows output of the run on stdout.\n",
    "run.wait_for_completion(show_output=True)"
   ]
  },
  {
   "cell_type": "code",
   "execution_count": null,
   "metadata": {},
   "outputs": [],
   "source": [
    "run.get_metrics()"
   ]
  },
  {
   "cell_type": "markdown",
   "metadata": {},
   "source": [
    "## Additional operations to perform on AmlCompute\n",
    "\n",
    "You can perform more operations on AmlCompute such as updating the node counts or deleting the compute. "
   ]
  },
  {
   "cell_type": "code",
   "execution_count": null,
   "metadata": {},
   "outputs": [],
   "source": [
    "#Get_status () gets the latest status of the AmlCompute target\n",
    "cpu_cluster.get_status().serialize()\n"
   ]
  },
  {
   "cell_type": "code",
   "execution_count": null,
   "metadata": {},
   "outputs": [],
   "source": [
    "#Update () takes in the min_nodes, max_nodes and idle_seconds_before_scaledown and updates the AmlCompute target\n",
    "#cpu_cluster.update(min_nodes=1)\n",
    "#cpu_cluster.update(max_nodes=10)\n",
    "cpu_cluster.update(idle_seconds_before_scaledown=300)\n",
    "#cpu_cluster.update(min_nodes=2, max_nodes=4, idle_seconds_before_scaledown=600)"
   ]
  },
  {
   "cell_type": "code",
   "execution_count": null,
   "metadata": {},
   "outputs": [],
   "source": [
    "#Delete () is used to deprovision and delete the AmlCompute target. Useful if you want to re-use the compute name \n",
    "#'cpu-cluster' in this case but use a different VM family for instance.\n",
    "\n",
    "#cpu_cluster.delete()"
   ]
  },
  {
   "cell_type": "markdown",
   "metadata": {},
   "source": [
    "## Success!\n",
    "Great, you are ready to move on to the remaining notebooks."
   ]
  }
 ],
 "metadata": {
  "authors": [
   {
    "name": "nigup"
   }
  ],
  "kernelspec": {
   "display_name": "Python (aml41)",
   "language": "python",
   "name": "aml41"
  },
  "language_info": {
   "codemirror_mode": {
    "name": "ipython",
    "version": 3
   },
   "file_extension": ".py",
   "mimetype": "text/x-python",
   "name": "python",
   "nbconvert_exporter": "python",
   "pygments_lexer": "ipython3",
   "version": "3.7.0"
  }
 },
 "nbformat": 4,
 "nbformat_minor": 2
}
